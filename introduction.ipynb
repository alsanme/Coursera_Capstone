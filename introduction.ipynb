{
 "cells": [
  {
   "cell_type": "markdown",
   "metadata": {},
   "source": [
    "<h4>Introduction/Business Problem</h4>"
   ]
  },
  {
   "cell_type": "markdown",
   "metadata": {},
   "source": [
    "<p>A real estate investment company wants to start a rehabilitation and rental project of offices, commercial premises, apartments and studios in different cities. The pilot project will be in Toronto. This company wants to target a young and professional public and is looking for locations where a good quality of life is combined with a large number of venues and services.</p>\n",
    "\n",
    "<p>As a first step in the search for properties by this company, we have been asked to carry out a preliminary study that analyzes the quantity of venues and the ease of transport and communications in three aspects: ease of walking around the neighborhood, ease of moving around by bicycle, and the quality of public transport.</p>\n",
    "\n",
    "<p>With the four factors combined we will obtain a single score that will serve us to classify the different neighborhoods and that this company can prioritize different areas where to acquire properties and offices.</p>\n",
    "\n",
    "<p>We will use Foursquare's API to obtain the values of each neighborhood, and <a href=\"https://www.walkscore.com/professional/\" target=\"_blank\">WalkScore</a>'s API, which is a real estate-oriented service whose free version, for specific coordinates (in the U.S.A., Canada or Australia) provides different scores for ease of movement on foot, by bicycle or public transport.</p>\n",
    "\n",
    "<p>Using a commercial license of WalkScore would allow us to consider more aspects, like population density, parks, businesses... But this approach will be enouch for the preliminary study.</p>"
   ]
  },
  {
   "cell_type": "code",
   "execution_count": null,
   "metadata": {},
   "outputs": [],
   "source": []
  }
 ],
 "metadata": {
  "kernelspec": {
   "display_name": "Python 3",
   "language": "python",
   "name": "python3"
  },
  "language_info": {
   "codemirror_mode": {
    "name": "ipython",
    "version": 3
   },
   "file_extension": ".py",
   "mimetype": "text/x-python",
   "name": "python",
   "nbconvert_exporter": "python",
   "pygments_lexer": "ipython3",
   "version": "3.8.5"
  }
 },
 "nbformat": 4,
 "nbformat_minor": 4
}
