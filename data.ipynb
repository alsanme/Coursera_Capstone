{
 "cells": [
  {
   "cell_type": "markdown",
   "metadata": {},
   "source": [
    "<h3><strong>Data</strong></h3> \n",
    "\n",
    "<h4>Source: <strong>Wikipedia</strong></h4> \n",
    "<p>We start from the list of Toronto's neighbourhoods and zip codes that appear in Wikipedia: <a href=\"https://en.wikipedia.org/wiki/List_of_postal_codes_of_Canada:_M\" target=\"_blank\">https://en.wikipedia.org/wiki/List_of_postal_codes_of_Canada:_M</a>\n",
    "<ul><li>Toronto neighborhoods: Strings</li>\n",
    "    <li>Postal codes: Strings</li>\n",
    "    </ul>\n",
    "</p>\n",
    "<h4>Source: <strong>ARCGIS</strong></h4> \n",
    "<p>We will use ARCGIS API, through the Geocoder library, to get the values of longitude and latitude for every zip code: \n",
    "<ul><li>Longitude: Float</li>\n",
    "    <li>Latitude: Float</li></ul>\n",
    "</p>\n",
    "<h4>Source: <strong>Foursquare</strong></h4>\n",
    "<p>We will use the latitude and longitude values together with the Foursquare API to get a list of venues for every neighborhood: \n",
    "<ul><li>Venues: Strings</li>\n",
    "</ul></p>\n",
    "<h4>Source: <strong>WalkScore</strong></h4>\n",
    "<p>And finally, with the objective of getting a more complete valuation of every neighborhood using the indexes of Walking, Public Transport and Bike riding easiness from the WalkScore API.  \n",
    "<ul><li>WalkScore index: Integer</li>\n",
    "    <li>Transit Score index: Integer</li>\n",
    "    <li>Bike Score index: Integer</li></ul>\n",
    "</p>\n",
    "<p>Example of an answer from WalkScore for the neighborhood of Regent Park:</p>\n",
    "<p><code>\n",
    "{\n",
    "\"status\": 1  \n",
    ", \"walkscore\": 90\n",
    ", \"description\": \"Very Walkable\"\n",
    ", \"updated\": \"2020-10-04 02:40:47.082396\" \n",
    ", \"logo_url\": \"https://cdn.walk.sc/images/api-logo.png\"\n",
    ", \"more_info_icon\": \"https://cdn.walk.sc/images/api-more-info.gif\"\n",
    ", \"more_info_link\": \"https://www.redfin.com/how-walk-score-works\"\n",
    ", \"ws_link\": \"https://www.walkscore.com/score/Regent-Park/lat=43.65512/lng=-79.36264/?utm_source=codigonoverbal.com&utm_medium=ws_api&utm_campaign=ws_api\"\n",
    ", \"help_link\": \"https://www.redfin.com/how-walk-score-works\"\n",
    ", \"snapped_lat\": 43.6545\n",
    ", \"snapped_lon\": -79.3620 \n",
    ", \"transit\" : {\"score\": 94, \"description\": \"Rider's Paradise\", \"summary\": \"17 nearby routes: 10 bus, 7 rail, 0 other\"} \n",
    ", \"bike\" : {\"score\": 99, \"description\": \"Biker's Paradise\"} \n",
    "}</code></p>\n",
    "<p>It has a Walkscore of 90 (Very Walkable), a Transit Score of 94 (Rider's Paradise) and a Bike Score of 99 (Biker's Paradise).</p>\n",
    "<p>In contrast, this is the result for The Beaches: </p>\n",
    "<p><code>\n",
    "{\n",
    "\"status\": 1  \n",
    ", \"walkscore\": 74\n",
    ", \"description\": \"Very Walkable\"\n",
    ", \"updated\": \"2020-11-18 22:41:38.250355\" \n",
    ", \"logo_url\": \"https://cdn.walk.sc/images/api-logo.png\"\n",
    ", \"more_info_icon\": \"https://cdn.walk.sc/images/api-more-info.gif\"\n",
    ", \"more_info_link\": \"https://www.redfin.com/how-walk-score-works\"\n",
    ", \"ws_link\": \"https://www.walkscore.com/score/loc/lat=43.67709/lng=-79.29547/?utm_source=codigonoverbal.com&utm_medium=ws_api&utm_campaign=ws_api\"\n",
    ", \"help_link\": \"https://www.redfin.com/how-walk-score-works\"\n",
    ", \"snapped_lat\": 43.6770\n",
    ", \"snapped_lon\": -79.2960 \n",
    ", \"transit\" : {\"score\": 80, \"description\": \"Excellent Transit\", \"summary\": \"23 nearby routes: 18 bus, 5 rail, 0 other\"} \n",
    ", \"bike\" : {\"score\": 53, \"description\": \"Bikeable\"} \n",
    "}\n",
    "</code></p>\n",
    "<p>Where we get: Walkscore: 74 (Very Walkable), Transit Score: 80 (Excellent Transit) and Bike Score: 53 (\"Bikeable\").</p>"
   ]
  },
  {
   "cell_type": "code",
   "execution_count": null,
   "metadata": {},
   "outputs": [],
   "source": []
  }
 ],
 "metadata": {
  "kernelspec": {
   "display_name": "Python 3",
   "language": "python",
   "name": "python3"
  },
  "language_info": {
   "codemirror_mode": {
    "name": "ipython",
    "version": 3
   },
   "file_extension": ".py",
   "mimetype": "text/x-python",
   "name": "python",
   "nbconvert_exporter": "python",
   "pygments_lexer": "ipython3",
   "version": "3.8.5"
  }
 },
 "nbformat": 4,
 "nbformat_minor": 4
}
